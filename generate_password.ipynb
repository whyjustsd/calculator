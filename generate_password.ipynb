{
  "nbformat": 4,
  "nbformat_minor": 0,
  "metadata": {
    "colab": {
      "provenance": [],
      "authorship_tag": "ABX9TyNJh5Tpkiy41p2X54JZtWh+",
      "include_colab_link": true
    },
    "kernelspec": {
      "name": "python3",
      "display_name": "Python 3"
    },
    "language_info": {
      "name": "python"
    }
  },
  "cells": [
    {
      "cell_type": "markdown",
      "metadata": {
        "id": "view-in-github",
        "colab_type": "text"
      },
      "source": [
        "<a href=\"https://colab.research.google.com/github/whyjustsd/calculator/blob/main/generate_password.ipynb\" target=\"_parent\"><img src=\"https://colab.research.google.com/assets/colab-badge.svg\" alt=\"Open In Colab\"/></a>"
      ]
    },
    {
      "cell_type": "code",
      "source": [
        "import string\n",
        "import random\n",
        "\n",
        "characters = list(string.ascii_letters + string.digits + \" !@#$%^&*()\")\n",
        "\n",
        "def generate_password():\n",
        "    password_length = int(input(\"How long would you like your password to be? \"))\n",
        "    \n",
        "    random.shuffle(characters)\n",
        "    \n",
        "    password = []\n",
        "    \n",
        "    for x in range(password_length):\n",
        "        password.append(random.choice(characters))\n",
        "    \n",
        "    random.shuffle(password)\n",
        "    \n",
        "    password = \"\" .join(password)\n",
        "    print(password)\n",
        "\n",
        "option = input(\"Do you want to generate a password? (Yes/No): \")\n",
        "\n",
        "if option == \"Yes\":\n",
        "    generate_password()\n",
        "elif option == \"No\":\n",
        "    print(\"Program ended\")\n",
        "    quit()\n",
        "else:\n",
        "    print(\"Invalid input, please input Yes or No\")\n",
        "    quit()"
      ],
      "metadata": {
        "colab": {
          "base_uri": "https://localhost:8080/"
        },
        "id": "j1Le41J5qkLQ",
        "outputId": "d6e8aa86-a33f-45cf-86fc-1ed6bd89a2f6"
      },
      "execution_count": 1,
      "outputs": [
        {
          "output_type": "stream",
          "name": "stdout",
          "text": [
            "Do you want to generate a password? (Yes/No): Yes\n",
            "How long would you like your password to be? 56\n",
            "q^r4wd#bk^uGX@(6awPOoDEMPw1X%evf%s6Y**RYIvS@EGqF)3(Q&VZo\n"
          ]
        }
      ]
    }
  ]
}