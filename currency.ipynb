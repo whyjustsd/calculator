{
  "nbformat": 4,
  "nbformat_minor": 0,
  "metadata": {
    "colab": {
      "provenance": [],
      "authorship_tag": "ABX9TyOgEE56+pGqew6Z4QodImaY",
      "include_colab_link": true
    },
    "kernelspec": {
      "name": "python3",
      "display_name": "Python 3"
    },
    "language_info": {
      "name": "python"
    }
  },
  "cells": [
    {
      "cell_type": "markdown",
      "metadata": {
        "id": "view-in-github",
        "colab_type": "text"
      },
      "source": [
        "<a href=\"https://colab.research.google.com/github/whyjustsd/calculator/blob/main/currency.ipynb\" target=\"_parent\"><img src=\"https://colab.research.google.com/assets/colab-badge.svg\" alt=\"Open In Colab\"/></a>"
      ]
    },
    {
      "cell_type": "code",
      "execution_count": 1,
      "metadata": {
        "colab": {
          "base_uri": "https://localhost:8080/"
        },
        "id": "H43b6WHTMmsI",
        "outputId": "ec04f6c3-9e5a-443c-964f-49b5277c4658"
      },
      "outputs": [
        {
          "output_type": "stream",
          "name": "stdout",
          "text": [
            "enter the amount in dollar : 6\n",
            "this is 480 inr\n",
            "this programe convers dollar to inr\n"
          ]
        }
      ],
      "source": [
        "def main():\n",
        "    print(\"this programe convers dollar to inr\")\n",
        "\n",
        "dollar = int(input(\"enter the amount in dollar : \"))\n",
        "convert_to_inr = lambda dollar: dollar*80\n",
        "inr = convert_to_inr(dollar)\n",
        "print(\"this is\", inr,\"inr\")\n",
        "\n",
        "main()"
      ]
    }
  ]
}