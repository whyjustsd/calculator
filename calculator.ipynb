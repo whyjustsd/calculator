{
  "nbformat": 4,
  "nbformat_minor": 0,
  "metadata": {
    "colab": {
      "provenance": [],
      "authorship_tag": "ABX9TyNzrXlO+dLgLFXjg6J9AtTI",
      "include_colab_link": true
    },
    "kernelspec": {
      "name": "python3",
      "display_name": "Python 3"
    },
    "language_info": {
      "name": "python"
    }
  },
  "cells": [
    {
      "cell_type": "markdown",
      "metadata": {
        "id": "view-in-github",
        "colab_type": "text"
      },
      "source": [
        "<a href=\"https://colab.research.google.com/github/whyjustsd/calculator/blob/main/calculator.ipynb\" target=\"_parent\"><img src=\"https://colab.research.google.com/assets/colab-badge.svg\" alt=\"Open In Colab\"/></a>"
      ]
    },
    {
      "cell_type": "code",
      "execution_count": null,
      "metadata": {
        "colab": {
          "base_uri": "https://localhost:8080/"
        },
        "id": "7nlkOtbSQTmZ",
        "outputId": "297e7a67-04b1-46fd-c78d-aff19e09a31d"
      },
      "outputs": [
        {
          "output_type": "stream",
          "name": "stdout",
          "text": [
            "A. Addition\n",
            "B. Substraction\n",
            "C. Multipication\n",
            "D. Division\n",
            "E. Exit\n",
            "input your choice: 5\n",
            "A. Addition\n",
            "B. Substraction\n",
            "C. Multipication\n",
            "D. Division\n",
            "E. Exit\n",
            "input your choice: d\n",
            "division\n",
            "enter the value of a: 45\n",
            "enter the value of b: 9\n",
            "45/9=5.0\n",
            "A. Addition\n",
            "B. Substraction\n",
            "C. Multipication\n",
            "D. Division\n",
            "E. Exit\n"
          ]
        }
      ],
      "source": [
        "def add(a,b):\n",
        "  answer = a+b\n",
        "  print(str(a)+\"+\"+str(b)+ \"=\"+str(answer))\n",
        "\n",
        "def sub(a,b):\n",
        "  answer = a-b\n",
        "  print(str(a)+\"-\"+str(b)+ \"=\"+str(answer))\n",
        "\n",
        "def mul(a,b):\n",
        "  answer = a*b\n",
        "  print(str(a)+\"*\"+str(b)+ \"=\"+str(answer))\n",
        "\n",
        "def div(a,b):\n",
        "  answer = a/b\n",
        "  print(str(a)+\"/\"+str(b)+ \"=\"+str(answer))\n",
        "\n",
        "while True:\n",
        " print(\"A. Addition\")\n",
        " print(\"B. Substraction\")\n",
        " print(\"C. Multipication\")\n",
        " print(\"D. Division\")\n",
        " print(\"E. Exit\")\n",
        "\n",
        " choice = str(input(\"input your choice: \"))\n",
        "\n",
        " if choice == \"a\" or choice==\"A\":\n",
        "   print(\"Addition\")\n",
        "   a= int(input(\"enter the value of a: \"))\n",
        "   b= int(input(\"enter the value of b: \"))\n",
        "   add(a,b)\n",
        " elif choice == \"b\" or choice==\"B\":\n",
        "   print(\"substraction\")\n",
        "   a= int(input(\"enter the value of a: \"))\n",
        "   b= int(input(\"enter the value of b: \"))\n",
        "   sub(a,b)\n",
        " elif choice == \"c\" or choice==\"C\":\n",
        "   print(\"Multipication\")\n",
        "   a= int(input(\"enter the value of a: \"))\n",
        "   b= int(input(\"enter the value of b: \"))\n",
        "   mul(a,b)\n",
        " elif choice == \"d\" or choice==\"D\":\n",
        "   print(\"division\")\n",
        "   a= int(input(\"enter the value of a: \"))\n",
        "   b= int(input(\"enter the value of b: \"))\n",
        "   div(a,b)\n",
        " elif choice ==\"e\" or choice==\"E\":\n",
        "   print(\"programe ended\")\n",
        "   quit()\n"
      ]
    }
  ]
}