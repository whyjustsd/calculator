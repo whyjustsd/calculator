{
  "nbformat": 4,
  "nbformat_minor": 0,
  "metadata": {
    "colab": {
      "provenance": [],
      "authorship_tag": "ABX9TyOxsR3lz2z8KpkW+eFRLT79",
      "include_colab_link": true
    },
    "kernelspec": {
      "name": "python3",
      "display_name": "Python 3"
    },
    "language_info": {
      "name": "python"
    }
  },
  "cells": [
    {
      "cell_type": "markdown",
      "metadata": {
        "id": "view-in-github",
        "colab_type": "text"
      },
      "source": [
        "<a href=\"https://colab.research.google.com/github/whyjustsd/calculator/blob/main/rock_paper.ipynb\" target=\"_parent\"><img src=\"https://colab.research.google.com/assets/colab-badge.svg\" alt=\"Open In Colab\"/></a>"
      ]
    },
    {
      "cell_type": "code",
      "source": [
        "import random\n",
        "\n",
        "exit = False\n",
        "user_points = 0\n",
        "computer_points = 0\n",
        "\n",
        "while exit == False:\n",
        "    options = [\"rock\", \"paper\" , \"ceaser\"]\n",
        "    user_input = input(\"Choose rock, paper, ceaser or exit: \")\n",
        "    computer_input = random.choice(options)\n",
        "    \n",
        "    if user_input == \"exit\" :\n",
        "        print(\"Game ended\")\n",
        "        print(\"You won a total score of \"+str(user_points)+\" and the computer total score is \" +str(computer_points))\n",
        "        exit = True\n",
        "\n",
        "    if user_input == \"rock\":\n",
        "        if computer_input == \"rock\":\n",
        "            print(\"Your input is rock\")\n",
        "            print(\"computer input is rock\")\n",
        "            print(\"It is a tie!\")\n",
        "        elif computer_input == \"paper\":\n",
        "            print(\"Your input is rock\")\n",
        "            print(\"computer input is paper\")\n",
        "            print(\" computer wins\")\n",
        "            computer_points += 1\n",
        "        elif computer_input == \"ceaser\":\n",
        "            print(\"Your input is rock\")\n",
        "            print(\"computer input is ceasor\")\n",
        "            print(\"you win\")\n",
        "            user_points += 1\n",
        "\n",
        "    elif user_input==\"paper\":\n",
        "        if computer_input == \"rock\":\n",
        "            print(\"Your input is paper\")\n",
        "            print(\"computer input is rock\")\n",
        "            print(\"you win\")\n",
        "            user_points+=1\n",
        "        elif computer_input == \"paper\":\n",
        "            print(\"Your input is paper\")\n",
        "            print(\"computer input is paper\")\n",
        "            print(\" it's a tie\")\n",
        "        elif computer_input == \"ceaser\":\n",
        "            print(\"Your input is paper\")\n",
        "            print(\"computer input is ceasoe\")\n",
        "            print(\"computer win\")\n",
        "            computer_points += 1\n",
        "\n",
        "    elif user_input ==\"ceaser\":\n",
        "        if computer_input == \"rock\":\n",
        "            print(\"Your input is ceaser\")\n",
        "            print(\"computer input is rock\")\n",
        "            print(\"computer wins\")\n",
        "            computer_points+=1\n",
        "        elif computer_input == \"paper\":\n",
        "            print(\"Your input is ceaser\")\n",
        "            print(\"computer input is paper\")\n",
        "            print(\" you wins\")\n",
        "            user_points += 1\n",
        "        elif computer_input == \"ceaser\":\n",
        "            print(\"Your input is rock\")\n",
        "            print(\"computer input is ceaser\")\n",
        "            print(\"you win\")\n",
        "            user_points += 1\n",
        "    \n",
        "    elif user_input != \" rock\" or user_input != \"paper\" or user_input != \"ceaser\":\n",
        "        print(\"Invalid Input\")\n",
        "   "
      ],
      "metadata": {
        "colab": {
          "base_uri": "https://localhost:8080/"
        },
        "id": "-MIZESWw3CA0",
        "outputId": "b67320f0-f746-4861-e344-c903030d19af"
      },
      "execution_count": null,
      "outputs": [
        {
          "output_type": "stream",
          "name": "stdout",
          "text": [
            "Choose rock, paper, ceaser or exit: paper\n",
            "Your input is paper\n",
            "computer input is ceasoe\n",
            "computer win\n"
          ]
        }
      ]
    }
  ]
}