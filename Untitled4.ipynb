{
  "nbformat": 4,
  "nbformat_minor": 0,
  "metadata": {
    "colab": {
      "provenance": [],
      "authorship_tag": "ABX9TyM46wNoJo9gnaLF5BC5/bhq",
      "include_colab_link": true
    },
    "kernelspec": {
      "name": "python3",
      "display_name": "Python 3"
    },
    "language_info": {
      "name": "python"
    }
  },
  "cells": [
    {
      "cell_type": "markdown",
      "metadata": {
        "id": "view-in-github",
        "colab_type": "text"
      },
      "source": [
        "<a href=\"https://colab.research.google.com/github/whyjustsd/calculator/blob/main/Untitled4.ipynb\" target=\"_parent\"><img src=\"https://colab.research.google.com/assets/colab-badge.svg\" alt=\"Open In Colab\"/></a>"
      ]
    },
    {
      "cell_type": "code",
      "execution_count": null,
      "metadata": {
        "colab": {
          "base_uri": "https://localhost:8080/"
        },
        "id": "rLk-i12UnHIE",
        "outputId": "cbd95096-257e-43c6-d9e3-fe74ed2ff95d"
      },
      "outputs": [
        {
          "output_type": "stream",
          "name": "stdout",
          "text": [
            "Roll the dice? (Yes/No) : Yes\n",
            "dice rolled: 2 and 3\n",
            "-----\n",
            "|o  |\n",
            "|   |\n",
            "|  o|\n",
            "-----\n",
            "-----\n",
            "|o  |\n",
            "| o |\n",
            "|  o|\n",
            "-----\n",
            "Roll again? (Yes/no): Yes\n",
            "dice rolled: 5 and 2\n",
            "-----\n",
            "|o o|\n",
            "| o |\n",
            "|o o|\n",
            "-----\n",
            "-----\n",
            "|o  |\n",
            "|   |\n",
            "|  o|\n",
            "-----\n"
          ]
        }
      ],
      "source": [
        "import random\n",
        "\n",
        "def roll_dice():\n",
        "\n",
        "    dice_drawing = {\n",
        "        1: (\n",
        "            \"-----\",\n",
        "            \"|   |\",\n",
        "            \"| o |\",\n",
        "            \"|   |\",\n",
        "            \"-----\",\n",
        "        ),\n",
        "        2: (\n",
        "            \"-----\",\n",
        "            \"|o  |\",\n",
        "            \"|   |\",\n",
        "            \"|  o|\",\n",
        "            \"-----\",\n",
        "        ),\n",
        "        3: (\n",
        "            \"-----\",\n",
        "            \"|o  |\",\n",
        "            \"| o |\",\n",
        "            \"|  o|\",\n",
        "            \"-----\",\n",
        "        ),\n",
        "        4: (\n",
        "            \"-----\",\n",
        "            \"|o o|\",\n",
        "            \"|   |\",\n",
        "            \"|o o|\",\n",
        "            \"-----\",\n",
        "        ),\n",
        "        5: (\n",
        "            \"-----\",\n",
        "            \"|o o|\",\n",
        "            \"| o |\",\n",
        "            \"|o o|\",\n",
        "            \"-----\",\n",
        "        ),\n",
        "        6: (\n",
        "            \"-----\",\n",
        "            \"|o o|\",\n",
        "            \"|o o|\",\n",
        "            \"|o o|\",\n",
        "            \"-----\",\n",
        "        ),\n",
        "\n",
        "    }\n",
        "    roll = input(\"Roll the dice? (Yes/No) : \")\n",
        "    while roll.lower() == \"Yes\". lower():\n",
        "        dice1 = random.randint(1, 6)\n",
        "        dice2 = random.randint(1, 6)\n",
        "\n",
        "        print(\"dice rolled: {} and {}\". format(dice1, dice2))\n",
        "        print(\"\\n\".join(dice_drawing[dice1]))\n",
        "        print(\"\\n\".join(dice_drawing[dice2]))\n",
        "        \n",
        "        roll = input(\"Roll again? (Yes/no): \")\n",
        "roll_dice()"
      ]
    }
  ]
}